{
 "cells": [
  {
   "cell_type": "code",
   "execution_count": 27,
   "metadata": {},
   "outputs": [
    {
     "name": "stdout",
     "output_type": "stream",
     "text": [
      "['Robert E. Lee Monument.', '\"Baby Shark Dance\" by Pinkfong.', '12 sacks.', 'The Marvelettes.', \"On New Year's Day.\", 'Figaro', 'The gravitational pull of the moon and the sun.', 'Lou Ferrigno', '2017', '16']\n",
      "[[['Matthew Fontaine Maury , oceanographer', 'J.E.B. Stuart -- equestrian sculpture', 'Stonewall Jackson -- equestrian sculpture', 'Arthur Ashe , tennis player']], [['Despacito']], [['12']], [['Motown singing group The Marvelettes']], [[\"New Year 's Day\"]], [['Figaro']], [['the rotation of Earth']], [['Edward Norton']], [['6 February 2017']], [['18']]]\n"
     ]
    }
   ],
   "source": [
    "import evaluate \n",
    "import json\n",
    "\n",
    "baseline = json.loads(open('/Users/aryank/Developer/dmml-research/Experiments/mini_sample_output_1729208141.json').read())\n",
    "baseline = baseline[:10]\n",
    "b_references = []\n",
    "b_predictions = []\n",
    "\n",
    "file_to_compare = json.loads(open('/Users/aryank/Developer/dmml-research/Experiments/mini_ques_what_output_1729734928.json').read())\n",
    "file_to_compare = file_to_compare[:10]\n",
    "f_references = []\n",
    "f_predictions = []\n",
    "\n",
    "for i in baseline:\n",
    "    b_references.append([i[\"ground_truth\"]])\n",
    "    b_predictions.append(i[\"llm_response\"])\n",
    "\n",
    "print(b_predictions)\n",
    "print(b_references)\n",
    "\n",
    "# predictions = [\"hello there general kenobi\", \"foo foobar\"]\n",
    "# references = [\n",
    "#     [\"hello there general kenobi\"],\n",
    "#     [\"foo bar foobar\"]\n",
    "# ]\n",
    "# bleu = evaluate.load(\"bleu\")\n",
    "# results = bleu.compute(predictions=predictions, references=references)\n",
    "# print(results[\"bleu\"])"
   ]
  },
  {
   "cell_type": "code",
   "execution_count": 28,
   "metadata": {},
   "outputs": [
    {
     "name": "stdout",
     "output_type": "stream",
     "text": [
      "{'bleu': 0.07863256872051379, 'precisions': [0.175], 'brevity_penalty': 0.4493289641172217, 'length_ratio': 0.5555555555555556, 'translation_length': 40, 'reference_length': 72}\n",
      "{'bleu': 0.034380233458213186, 'precisions': [0.12903225806451613], 'brevity_penalty': 0.26644680930115217, 'length_ratio': 0.4305555555555556, 'translation_length': 31, 'reference_length': 72}\n"
     ]
    }
   ],
   "source": [
    "for i in file_to_compare:\n",
    "    f_references.append([i[\"ground_truth\"]])\n",
    "    f_predictions.append(i[\"llm_response\"])\n",
    "\n",
    "# print(f_predictions)\n",
    "# print(f_references)\n",
    "\n",
    "bleu = evaluate.load(\"bleu\")\n",
    "\n",
    "b_results = bleu.compute(predictions=b_predictions, references=b_references, max_order=1)\n",
    "f_results = bleu.compute(predictions=f_predictions, references=f_references, max_order=1)\n",
    "\n",
    "print(b_results)\n",
    "print(f_results)\n"
   ]
  },
  {
   "cell_type": "code",
   "execution_count": 29,
   "metadata": {},
   "outputs": [
    {
     "name": "stdout",
     "output_type": "stream",
     "text": [
      "{'bleu': 0.6666666666666666, 'precisions': [0.6666666666666666], 'brevity_penalty': 1.0, 'length_ratio': 1.5, 'translation_length': 3, 'reference_length': 2}\n"
     ]
    }
   ],
   "source": [
    "import evaluate\n",
    "\n",
    "predictions = [\"66 medals india\"]\n",
    "references =  [[\"66 medals\"]]\n",
    "\n",
    "bleu = evaluate.load(\"bleu\")\n",
    "results = bleu.compute(predictions=predictions, references=references, max_order=1)\n",
    "print(results)\n"
   ]
  }
 ],
 "metadata": {
  "kernelspec": {
   "display_name": "Python 3",
   "language": "python",
   "name": "python3"
  },
  "language_info": {
   "codemirror_mode": {
    "name": "ipython",
    "version": 3
   },
   "file_extension": ".py",
   "mimetype": "text/x-python",
   "name": "python",
   "nbconvert_exporter": "python",
   "pygments_lexer": "ipython3",
   "version": "3.12.3"
  }
 },
 "nbformat": 4,
 "nbformat_minor": 2
}
