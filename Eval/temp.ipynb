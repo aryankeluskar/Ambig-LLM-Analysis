{
 "cells": [
  {
   "cell_type": "code",
   "execution_count": 8,
   "metadata": {},
   "outputs": [
    {
     "name": "stdout",
     "output_type": "stream",
     "text": [
      "[0.7591302011849417, 0.8582733442655923, 0.7779376768585774, 0.7836909355923223]\n",
      "[0.7591302011849417, 0.8582733442655923, 0.7071022424248022, 0.7102433085429893]\n"
     ]
    }
   ],
   "source": [
    "import json\n",
    "\n",
    "\n",
    "with open(\"/Users/aryank/Developer/dmml-research/off-track exps/interesting_1730200412.json\") as f:\n",
    "    first = json.load(f)\n",
    "\n",
    "# second = json.load(\"/Users/aryank/Developer/dmml-research/off-track exps/interesting_1730201074.json\")\n",
    "with open(\"/Users/aryank/Developer/dmml-research/off-track exps/interesting_1730201074.json\") as f:\n",
    "    second = json.load(f)\n",
    "\n",
    "sum_1 = [0,0,0,0]\n",
    "sum_2 = [0,0,0,0]\n",
    "\n",
    "for i in range(len(first)):\n",
    "    sum_1[0] += first[i][\"ambig_answer_distance\"]\n",
    "    sum_1[1] += first[i][\"disambig_answer_distance\"]\n",
    "    sum_1[2] += first[i][\"what_disambig_answer_distance\"]\n",
    "    sum_1[3] += first[i][\"add_context_disambig_answer_distance\"]\n",
    "\n",
    "    sum_2[0] += second[i][\"ambig_answer_distance\"]\n",
    "    sum_2[1] += second[i][\"disambig_answer_distance\"]\n",
    "    sum_2[2] += second[i][\"what_disambig_answer_distance\"]\n",
    "    sum_2[3] += second[i][\"add_context_disambig_answer_distance\"]\n",
    "\n",
    "sum_1 = [x/len(first) for x in sum_1]\n",
    "sum_2 = [x/len(first) for x in sum_2]\n",
    "\n",
    "print(sum_1)\n",
    "print(sum_2)\n"
   ]
  }
 ],
 "metadata": {
  "kernelspec": {
   "display_name": "Python 3",
   "language": "python",
   "name": "python3"
  },
  "language_info": {
   "codemirror_mode": {
    "name": "ipython",
    "version": 3
   },
   "file_extension": ".py",
   "mimetype": "text/x-python",
   "name": "python",
   "nbconvert_exporter": "python",
   "pygments_lexer": "ipython3",
   "version": "3.12.3"
  }
 },
 "nbformat": 4,
 "nbformat_minor": 2
}
