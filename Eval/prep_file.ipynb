{
 "cells": [
  {
   "cell_type": "code",
   "execution_count": 9,
   "metadata": {},
   "outputs": [],
   "source": [
    "import json\n",
    "\n",
    "# load /Users/aryank/Developer/dmml-research/Experiments/o_sample_output_1729209119.json\n",
    "\n",
    "# /Users/aryank/Developer/dmml-research/off-track exps/disambig_filter_with_our_sample.json\n",
    "\n",
    "baseline = json.load(open('/Users/aryank/Developer/dmml-research/off-track exps/interesting_1730209964.json'))\n",
    "\n",
    "# The prediction should be a json file with a dictionary that has id as a key and a prediction object as a value. A prediction object should be in the following format.\n",
    "# a list of strings (answers), if you only want to compute answer F1.\n",
    "\n",
    "out = {}\n",
    "\n",
    "for i in baseline:\n",
    "    curr = {\n",
    "        i[\"nq_id\"]: i[\"disambig_llm_answer\"]\n",
    "    }\n",
    "\n",
    "    out.update(curr)\n",
    "\n",
    "with open('preds_mini_ub.json', 'w') as f:\n",
    "    json.dump(out, f)"
   ]
  },
  {
   "cell_type": "code",
   "execution_count": 7,
   "metadata": {},
   "outputs": [
    {
     "name": "stdout",
     "output_type": "stream",
     "text": [
      "10036\n"
     ]
    }
   ],
   "source": [
    "# open Notebooks/train.json and get all the elements in the list where 'id' as key is also in the baseline\n",
    "import json\n",
    "raw_train = json.load(open('/Users/aryank/Developer/dmml-research/Notebooks/train.json'))\n",
    "print(len(raw_train))\n",
    "# train = [i for i in train if i['id'] in [i['nq_id'] for i in baseline]]\n",
    "\n",
    "# baseline = json.load(open('/Users/aryank/Developer/dmml-research/off-track exps/interesting_1730490464.json'))\n",
    "# get train such that train[i]['id'] == baseline[i]['nq_id']\n",
    "all_ids = [i['nq_id'] for i in baseline]\n",
    "train = []\n",
    "for curr_id in all_ids:\n",
    "    for i in raw_train:\n",
    "        if i['id'] == curr_id:\n",
    "            train.append(i)\n",
    "            break\n",
    "\n",
    "with open('ref_train_upperbound.json', 'w') as f:\n",
    "    json.dump(train, f)"
   ]
  },
  {
   "cell_type": "code",
   "execution_count": 8,
   "metadata": {},
   "outputs": [
    {
     "name": "stdout",
     "output_type": "stream",
     "text": [
      "10036\n"
     ]
    }
   ],
   "source": [
    "# open Notebooks/train.json and get all the elements in the list where 'id' as key is also in the baseline\n",
    "import json\n",
    "\n",
    "baseline = json.load(open('/Users/aryank/Developer/dmml-research/off-track exps/disambig_filter_with_our_sample.json'))\n",
    "\n",
    "raw_train = json.load(open('/Users/aryank/Developer/dmml-research/Notebooks/train.json'))\n",
    "print(len(raw_train))\n",
    "# train = [i for i in train if i['id'] in [i['nq_id'] for i in baseline]]\n",
    "\n",
    "gt = {}\n",
    "\n",
    "# get train such that train[i]['id'] == baseline[i]['nq_id']\n",
    "all_ids = [i['nq_id'] for i in baseline]\n",
    "train = []\n",
    "for curr_id in all_ids:\n",
    "    for i in raw_train:\n",
    "        if i['id'] == curr_id:\n",
    "            train.append(i)\n",
    "            gt.update({str(i['id']): i['nq_answer']})\n",
    "            break\n",
    "\n",
    "with open('ref_train_upperbound.json', 'w') as f:\n",
    "    json.dump(train, f)\n",
    "\n",
    "with open('ref_gt_upperbound.json', 'w') as f:\n",
    "    json.dump(gt, f)"
   ]
  },
  {
   "cell_type": "code",
   "execution_count": 24,
   "metadata": {},
   "outputs": [
    {
     "name": "stdout",
     "output_type": "stream",
     "text": [
      "1000\n",
      "47.088\n",
      "8.931\n",
      "----\n",
      "71.824\n",
      "13.014\n"
     ]
    }
   ],
   "source": [
    "import json\n",
    "sample = json.load(open('/Users/aryank/Developer/dmml-research/Experiments/o_ques_what_output_1729741927.json'))\n",
    "\n",
    "print(len(sample))\n",
    "\n",
    "# find average length of question, answer, and number of answers\n",
    "sum_q = 0\n",
    "sum_words_q = 0\n",
    "sum_a = 0\n",
    "sum_words_a = 0\n",
    "sum_n = 0\n",
    "\n",
    "sum_context = 0\n",
    "sum_words_context = 0\n",
    "\n",
    "count = {}\n",
    "\n",
    "for i in sample:\n",
    "    sum_q += len(i['ambig_question'])\n",
    "    # sum_n += len(i['nq_answer'])\n",
    "\n",
    "    sum_words_q += len(i['ambig_question'].split())\n",
    "\n",
    "    sum_context += len(i['disambig_question'])\n",
    "    sum_words_context += len(i['disambig_question'].split())\n",
    "\n",
    "    # for answer in i['nq_answer']:\n",
    "    #     sum_a += len(answer)\n",
    "    #     sum_words_a += len(answer.split())\n",
    "\n",
    "    #     answer = answer.split()\n",
    "\n",
    "    # if len(i['nq_answer']) in count:\n",
    "    #     count[len(i['nq_answer'])] += 1\n",
    "    # else:\n",
    "    #     count[len(i['nq_answer'])] = 1\n",
    "\n",
    "\n",
    "print(sum_q / len(sample))\n",
    "print(sum_words_q / len(sample))\n",
    "print(\"----\")\n",
    "print(sum_context / len(sample))\n",
    "print(sum_words_context / len(sample))\n",
    "# print(sum_a / sum_n)\n",
    "# print(sum_words_a / sum_n)\n",
    "# print(\"----\")\n",
    "# print(sum_n / len(sample))\n",
    "\n",
    "# sort the count\n",
    "# print(count)\n",
    "# print(sorted(count.items(), key=lambda x: x[0]))"
   ]
  },
  {
   "cell_type": "code",
   "execution_count": 30,
   "metadata": {},
   "outputs": [
    {
     "name": "stdout",
     "output_type": "stream",
     "text": [
      "{\"nq_id\": \"-4153878831646153158\", \"ambig_question\": \"Nfl record for most sacks by a team in a game?\", \"ambig_llm_answer\": \"12 sacks\", \"disambig_question\": \"Nfl record for most sacks by a team in a game is how many sacks?\", \"disambig_llm_answer\": \"12 sacks.\", \"question_distance\": 0.9265308383369393, \"answer_distance\": 0.6261059735921753, \"ambig_answer_distance\": 0.378891312645188, \"disambig_answer_distance\": 0.3789213507919056, \"ground_truth\": [\"12\"], \"what_question\": \"What is the NFL record for the most sacks by a team in a game as of 2018?\", \"what_answer\": \"12 sacks.\", \"add_context_question\": \"To clarify the question regarding the NFL record for most sacks by a team in a game, it is asking for the maximum number of quarterback sacks recorded by a single NFL team during one game. In the context of this question, QUOTE_HEREsacksQUOTE_HERE refer to a defensive play where a defender tackles the quarterback behind the line of scrimmage before he has an opportunity to throw a pass. \\n\\nAs of January 2018, the record for the most sacks by a team in a single game is 12, achieved by the Chicago Bears against the Washington Redskins on November 13, 1985. \\n\\nIt\\\"s worth noting that NFL records may change, so if you are looking for updated statistics, please verify them from a current sports news outlet or the NFL\\\"s official website.\", \"add_context_answer\": \"12\", \"what_disambig_answer_distance\": 0.39382000684070734, \"add_context_disambig_answer_distance\": 1.0, \"baseline_answer_distance\": 0.3943971106533721, \"distance_between_baseline_and_what\": 0.9479476550347888, \"distance_between_baseline_and_add_context\": 0.3943971106533721, \"question_distance_between_baseline_and_what\": 0.8633343634058285, \"question_distance_between_baseline_and_add_context\": 0.7485483098546155}\n",
      "\n",
      "{\"nq_id\": \"-2028814158008205327\", \"ambig_question\": QUOTE_HEREWho sings the original i\"ll keep holding on?QUOTE_HERE, \"ambig_llm_answer\": \"The Marvelettes.\", \"disambig_question\": QUOTE_HEREWhich band sings the original i\"ll keep holding on?QUOTE_HERE, \"disambig_llm_answer\": \"The Marvelettes\", \"question_distance\": 0.9606945492647609, \"answer_distance\": 0.3365850933308642, \"ambig_answer_distance\": 0.8891088004404665, \"disambig_answer_distance\": 0.889153541194593, \"ground_truth\": [\"Motown singing group The Marvelettes\"], \"what_question\": \"What person sings the original QUOTE_HEREI\\\"ll Keep Holding OnQUOTE_HERE?\", \"what_answer\": \"The Marvelettes.\", \"add_context_question\": \"To further clarify your question, it appears you are asking about the original recording of the song titled QUOTE_HEREI\\\"ll Keep Holding On.QUOTE_HERE This song was originally performed by the American rock band QUOTE_HEREThe Motown Band,QUOTE_HERE known as The Marvelettes. It was released in 1965 as a single. \\n\\nIf you\\\"re looking for the context in which the song has been covered, several artists have since done their renditions. However, if your focus is on the original version, it is important to note that the song was part of the Motown label\\\"s classic sound and showcases the vocal style characteristic of that era.\\n\\nIs there a particular aspect of the song—such as its lyrics, themes, or impact on music history—that you\\\"re interested in? Additionally, please confirm if you are seeking information regarding variations or remakes of the song since January 2018.\", \"add_context_answer\": \"The Marvelettes.\", \"what_disambig_answer_distance\": 0.8231126177941123, \"add_context_disambig_answer_distance\": 0.8231073903275168, \"baseline_answer_distance\": 0.8231126177941123, \"distance_between_baseline_and_what\": 0.9999990989688063, \"distance_between_baseline_and_add_context\": 0.9999991401234771, \"question_distance_between_baseline_and_what\": 0.9597283896923927, \"question_distance_between_baseline_and_add_context\": 0.7341142852673326}\n",
      "\n"
     ]
    },
    {
     "ename": "JSONDecodeError",
     "evalue": "Expecting value: line 1 column 53 (char 52)",
     "output_type": "error",
     "traceback": [
      "\u001b[0;31m---------------------------------------------------------------------------\u001b[0m",
      "\u001b[0;31mJSONDecodeError\u001b[0m                           Traceback (most recent call last)",
      "Cell \u001b[0;32mIn[30], line 14\u001b[0m\n\u001b[1;32m     12\u001b[0m     lines[i] \u001b[38;5;241m=\u001b[39m lines[i]\u001b[38;5;241m.\u001b[39mreplace(\u001b[38;5;124m'\u001b[39m\u001b[38;5;130;01m\\'\u001b[39;00m\u001b[38;5;124m'\u001b[39m, \u001b[38;5;124m'\u001b[39m\u001b[38;5;130;01m\\\"\u001b[39;00m\u001b[38;5;124m'\u001b[39m)\n\u001b[1;32m     13\u001b[0m     \u001b[38;5;28mprint\u001b[39m(lines[i])\n\u001b[0;32m---> 14\u001b[0m     curr \u001b[38;5;241m=\u001b[39m \u001b[43mjson\u001b[49m\u001b[38;5;241;43m.\u001b[39;49m\u001b[43mloads\u001b[49m\u001b[43m(\u001b[49m\u001b[43mlines\u001b[49m\u001b[43m[\u001b[49m\u001b[43mi\u001b[49m\u001b[43m]\u001b[49m\u001b[43m)\u001b[49m\n\u001b[1;32m     16\u001b[0m     sample\u001b[38;5;241m.\u001b[39mappend(curr)\n\u001b[1;32m     18\u001b[0m \u001b[38;5;28;01mwith\u001b[39;00m \u001b[38;5;28mopen\u001b[39m(\u001b[38;5;124m'\u001b[39m\u001b[38;5;124msample_mini_what.json\u001b[39m\u001b[38;5;124m'\u001b[39m, \u001b[38;5;124m'\u001b[39m\u001b[38;5;124mw\u001b[39m\u001b[38;5;124m'\u001b[39m) \u001b[38;5;28;01mas\u001b[39;00m f:\n",
      "File \u001b[0;32m/Library/Frameworks/Python.framework/Versions/3.12/lib/python3.12/json/__init__.py:346\u001b[0m, in \u001b[0;36mloads\u001b[0;34m(s, cls, object_hook, parse_float, parse_int, parse_constant, object_pairs_hook, **kw)\u001b[0m\n\u001b[1;32m    341\u001b[0m     s \u001b[38;5;241m=\u001b[39m s\u001b[38;5;241m.\u001b[39mdecode(detect_encoding(s), \u001b[38;5;124m'\u001b[39m\u001b[38;5;124msurrogatepass\u001b[39m\u001b[38;5;124m'\u001b[39m)\n\u001b[1;32m    343\u001b[0m \u001b[38;5;28;01mif\u001b[39;00m (\u001b[38;5;28mcls\u001b[39m \u001b[38;5;129;01mis\u001b[39;00m \u001b[38;5;28;01mNone\u001b[39;00m \u001b[38;5;129;01mand\u001b[39;00m object_hook \u001b[38;5;129;01mis\u001b[39;00m \u001b[38;5;28;01mNone\u001b[39;00m \u001b[38;5;129;01mand\u001b[39;00m\n\u001b[1;32m    344\u001b[0m         parse_int \u001b[38;5;129;01mis\u001b[39;00m \u001b[38;5;28;01mNone\u001b[39;00m \u001b[38;5;129;01mand\u001b[39;00m parse_float \u001b[38;5;129;01mis\u001b[39;00m \u001b[38;5;28;01mNone\u001b[39;00m \u001b[38;5;129;01mand\u001b[39;00m\n\u001b[1;32m    345\u001b[0m         parse_constant \u001b[38;5;129;01mis\u001b[39;00m \u001b[38;5;28;01mNone\u001b[39;00m \u001b[38;5;129;01mand\u001b[39;00m object_pairs_hook \u001b[38;5;129;01mis\u001b[39;00m \u001b[38;5;28;01mNone\u001b[39;00m \u001b[38;5;129;01mand\u001b[39;00m \u001b[38;5;129;01mnot\u001b[39;00m kw):\n\u001b[0;32m--> 346\u001b[0m     \u001b[38;5;28;01mreturn\u001b[39;00m \u001b[43m_default_decoder\u001b[49m\u001b[38;5;241;43m.\u001b[39;49m\u001b[43mdecode\u001b[49m\u001b[43m(\u001b[49m\u001b[43ms\u001b[49m\u001b[43m)\u001b[49m\n\u001b[1;32m    347\u001b[0m \u001b[38;5;28;01mif\u001b[39;00m \u001b[38;5;28mcls\u001b[39m \u001b[38;5;129;01mis\u001b[39;00m \u001b[38;5;28;01mNone\u001b[39;00m:\n\u001b[1;32m    348\u001b[0m     \u001b[38;5;28mcls\u001b[39m \u001b[38;5;241m=\u001b[39m JSONDecoder\n",
      "File \u001b[0;32m/Library/Frameworks/Python.framework/Versions/3.12/lib/python3.12/json/decoder.py:337\u001b[0m, in \u001b[0;36mJSONDecoder.decode\u001b[0;34m(self, s, _w)\u001b[0m\n\u001b[1;32m    332\u001b[0m \u001b[38;5;28;01mdef\u001b[39;00m \u001b[38;5;21mdecode\u001b[39m(\u001b[38;5;28mself\u001b[39m, s, _w\u001b[38;5;241m=\u001b[39mWHITESPACE\u001b[38;5;241m.\u001b[39mmatch):\n\u001b[1;32m    333\u001b[0m \u001b[38;5;250m    \u001b[39m\u001b[38;5;124;03m\"\"\"Return the Python representation of ``s`` (a ``str`` instance\u001b[39;00m\n\u001b[1;32m    334\u001b[0m \u001b[38;5;124;03m    containing a JSON document).\u001b[39;00m\n\u001b[1;32m    335\u001b[0m \n\u001b[1;32m    336\u001b[0m \u001b[38;5;124;03m    \"\"\"\u001b[39;00m\n\u001b[0;32m--> 337\u001b[0m     obj, end \u001b[38;5;241m=\u001b[39m \u001b[38;5;28;43mself\u001b[39;49m\u001b[38;5;241;43m.\u001b[39;49m\u001b[43mraw_decode\u001b[49m\u001b[43m(\u001b[49m\u001b[43ms\u001b[49m\u001b[43m,\u001b[49m\u001b[43m \u001b[49m\u001b[43midx\u001b[49m\u001b[38;5;241;43m=\u001b[39;49m\u001b[43m_w\u001b[49m\u001b[43m(\u001b[49m\u001b[43ms\u001b[49m\u001b[43m,\u001b[49m\u001b[43m \u001b[49m\u001b[38;5;241;43m0\u001b[39;49m\u001b[43m)\u001b[49m\u001b[38;5;241;43m.\u001b[39;49m\u001b[43mend\u001b[49m\u001b[43m(\u001b[49m\u001b[43m)\u001b[49m\u001b[43m)\u001b[49m\n\u001b[1;32m    338\u001b[0m     end \u001b[38;5;241m=\u001b[39m _w(s, end)\u001b[38;5;241m.\u001b[39mend()\n\u001b[1;32m    339\u001b[0m     \u001b[38;5;28;01mif\u001b[39;00m end \u001b[38;5;241m!=\u001b[39m \u001b[38;5;28mlen\u001b[39m(s):\n",
      "File \u001b[0;32m/Library/Frameworks/Python.framework/Versions/3.12/lib/python3.12/json/decoder.py:355\u001b[0m, in \u001b[0;36mJSONDecoder.raw_decode\u001b[0;34m(self, s, idx)\u001b[0m\n\u001b[1;32m    353\u001b[0m     obj, end \u001b[38;5;241m=\u001b[39m \u001b[38;5;28mself\u001b[39m\u001b[38;5;241m.\u001b[39mscan_once(s, idx)\n\u001b[1;32m    354\u001b[0m \u001b[38;5;28;01mexcept\u001b[39;00m \u001b[38;5;167;01mStopIteration\u001b[39;00m \u001b[38;5;28;01mas\u001b[39;00m err:\n\u001b[0;32m--> 355\u001b[0m     \u001b[38;5;28;01mraise\u001b[39;00m JSONDecodeError(\u001b[38;5;124m\"\u001b[39m\u001b[38;5;124mExpecting value\u001b[39m\u001b[38;5;124m\"\u001b[39m, s, err\u001b[38;5;241m.\u001b[39mvalue) \u001b[38;5;28;01mfrom\u001b[39;00m \u001b[38;5;28;01mNone\u001b[39;00m\n\u001b[1;32m    356\u001b[0m \u001b[38;5;28;01mreturn\u001b[39;00m obj, end\n",
      "\u001b[0;31mJSONDecodeError\u001b[0m: Expecting value: line 1 column 53 (char 52)"
     ]
    }
   ],
   "source": [
    "#  get every third line from /Users/aryank/Developer/dmml-research/off-track exps/mini_what_subset.txt\n",
    "#  load it into a json array\n",
    "\n",
    "import json\n",
    "\n",
    "lines = open('/Users/aryank/Developer/dmml-research/off-track exps/mini_what_subset.txt').readlines()\n",
    "\n",
    "sample = []\n",
    "\n",
    "for i in range(2, len(lines), 3):\n",
    "    lines[i] = lines[i].replace('\\\"', 'QUOTE_HERE')\n",
    "    lines[i] = lines[i].replace('\\'', '\\\"')\n",
    "    print(lines[i])\n",
    "    curr = json.loads(lines[i])\n",
    "\n",
    "    sample.append(curr)\n",
    "\n",
    "with open('sample_mini_what.json', 'w') as f:\n",
    "    json.dump(sample, f)"
   ]
  }
 ],
 "metadata": {
  "kernelspec": {
   "display_name": "Python 3",
   "language": "python",
   "name": "python3"
  },
  "language_info": {
   "codemirror_mode": {
    "name": "ipython",
    "version": 3
   },
   "file_extension": ".py",
   "mimetype": "text/x-python",
   "name": "python",
   "nbconvert_exporter": "python",
   "pygments_lexer": "ipython3",
   "version": "3.12.3"
  }
 },
 "nbformat": 4,
 "nbformat_minor": 2
}
