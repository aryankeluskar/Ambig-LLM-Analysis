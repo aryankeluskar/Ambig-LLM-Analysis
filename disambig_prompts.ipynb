{
 "cells": [
  {
   "cell_type": "code",
   "execution_count": 1,
   "metadata": {},
   "outputs": [],
   "source": [
    "import os\n",
    "from openai import OpenAI\n",
    "import dotenv\n",
    "dotenv.load_dotenv()\n",
    "\n",
    "client = OpenAI(\n",
    "  api_key=os.environ.get(\"OPENAI_API_KEY\"),\n",
    ")"
   ]
  },
  {
   "cell_type": "code",
   "execution_count": 2,
   "metadata": {},
   "outputs": [
    {
     "data": {
      "text/plain": [
       "'Hello! How can I assist you today?'"
      ]
     },
     "execution_count": 2,
     "metadata": {},
     "output_type": "execute_result"
    }
   ],
   "source": [
    "chat_completion = client.chat.completions.create(\n",
    "    messages=[\n",
    "        {\n",
    "            \"role\": \"user\",\n",
    "            \"content\": \"\",\n",
    "        }\n",
    "    ],\n",
    "    model=\"gpt-4o\",\n",
    ")\n",
    "\n",
    "str(chat_completion.choices[0].message.content)\n"
   ]
  },
  {
   "cell_type": "code",
   "execution_count": 3,
   "metadata": {},
   "outputs": [
    {
     "name": "stdout",
     "output_type": "stream",
     "text": [
      "[{'nq_id': '-6879428134571341185', 'nq_question': 'When does hotel transylvania part 3 come out?', 'nq_answer': ['July 13 , 2018'], 'ambig_questions': [{'question': 'When does the film hotel transylvania part 3 come out at AIAFF, the french film festival?', 'answer': ['June 13, 2018']}, {'question': 'When does the film hotel transylvania part 3 come out in the United States?', 'answer': ['July 13, 2018']}, {'question': 'When does hotel transylvania part 3 video game come out?', 'answer': ['July 10, 2018']}, {'question': 'When does the film hotel transylvania part 3 come out in China?', 'answer': ['August 17, 2018']}, {'question': 'When does the film hotel transylvania part 3 come out in Italy and the Phillippines?', 'answer': ['late August 2018']}, {'question': 'When does the film hotel transylvania part 3 come out in Japan and Poland?', 'answer': ['October 2018']}]}, {'nq_id': '804600793856177571', 'nq_question': 'When was daylight saving first introduced to australia?', 'nq_answer': ['World War I'], 'ambig_questions': [{'question': 'When did daylight savings first start in Australian History?', 'answer': ['During WWI']}, {'question': 'Since when has daylight savings time started in at least one Australian state?', 'answer': ['1968']}, {'question': 'When was daylight savings time started for all Australian states?', 'answer': ['1971']}]}, {'nq_id': '-1678402464171096243', 'nq_question': 'How many post office branches in the uk?', 'nq_answer': ['around 11,500'], 'ambig_questions': [{'question': 'How many total post office branches are in the UK?', 'answer': ['11,500']}, {'question': 'How many Post Office Ltd. post office branches are in the UK?', 'answer': ['300']}, {'question': 'How many Royal Mail branches are there in the UK?', 'answer': ['1400']}]}, {'nq_id': '1829447224335269967', 'nq_question': 'Who won 2017 atp mexico open hard court tennis tournament?', 'nq_answer': ['Sam Querrey', 'Anastasia Rodionova', 'Jamie Murray', 'Bruno Soares', 'Darija Jurak', 'Lesia Tsurenko'], 'ambig_questions': [{'question': \"Who won the men's singles competition at the 2017 Mexico Open hard court tennis tournament?\", 'answer': ['Sam Querrey']}, {'question': \"Who won the women's singles competition at the 2017 Mexico Open hard court tennis tournament?\", 'answer': ['Lesia Tsurenko']}, {'question': \"Who won the men's doubles competition at the 2017 Mexico Open hard court tennis tournament?\", 'answer': ['Jamie Murray, Bruno Soares']}, {'question': \"Who won the women's doubles competition at the 2017 Mexico Open hard court tennis tournament?\", 'answer': ['Darija Jurak and Anastasia Rodionova']}]}, {'nq_id': '739474566037411469', 'nq_question': 'Which discipline of neuroscience studies nervous system disorders?', 'nq_answer': ['Clinical neuroscience'], 'ambig_questions': [{'question': 'Classically, which discipline of neuroscience studies nervous system disorders?', 'answer': ['neurology']}, {'question': 'In current practice, which discipline of neuroscience studies nervous system disorders?', 'answer': ['boundaries between various specialties have blurred']}]}, {'nq_id': '-4142777293578935639', 'nq_question': 'When does episode 3 of final space come out?', 'nq_answer': ['March 12 , 2018'], 'ambig_questions': [{'question': 'When does Season 1, episode 3 of Final Space come out on TBS?', 'answer': ['March 12, 2018']}, {'question': 'When does Season 1, episode 3 of Final Space come out online?', 'answer': ['February 26, 2018']}, {'question': 'When does Season 2, episode 3 of Final space come out on Adult Swim?', 'answer': ['July 8, 2019']}, {'question': 'When does Season 2, episode 3 of Final space come out on TBS?', 'answer': ['July 15, 2019']}]}, {'nq_id': '5694395508556331288', 'nq_question': 'Where did the the three kings come from?', 'nq_answer': ['from the east'], 'ambig_questions': [{'question': 'Where did the people the three kings come from?', 'answer': ['from the east', 'the east']}, {'question': 'Where did the 1929 film the three kings come from?', 'answer': ['United Kingdom', 'Germany']}, {'question': 'Where did the novel the three kings come from?', 'answer': ['New Mexico']}, {'question': 'Where did the song the three kings by Peter Cornelius come from?', 'answer': ['Germany']}]}, {'nq_id': '-3353695272638881438', 'nq_question': 'Who did matthew gray gubler play in batman assault on arkham?', 'nq_answer': ['Riddler / Edward Nygma'], 'ambig_questions': [{'question': 'Which villain did Matthew Gray Gubler play in Batman Assault on Arkham?', 'answer': ['Riddler']}, {'question': 'What is the given name of the character that Matthew Gray Gubler played in Batman assault on Arkham?', 'answer': ['Edward Nygma']}]}, {'nq_id': '-6525373399334681447', 'nq_question': \"Who plays max branning's wife in eastenders?\", 'nq_answer': ['Jo Joyner'], 'ambig_questions': [{'question': \"Who plays Max Branning's second wife in EastEnders?\", 'answer': ['Jo Joyner']}, {'question': \"Who plays Max Branning's third wife in EastEnders?\", 'answer': ['Kierston Wareing']}, {'question': \"Who pays Max Branning's first wife in EastEnders?\", 'answer': ['Sukie Smith']}, {'question': \"Who plays Max Branning's fourth wife in EastEnders?\", 'answer': ['Tanya Franks']}]}, {'nq_id': '-3276837314554268589', 'nq_question': 'Do nz citizens need a visa for hong kong?', 'nq_answer': ['Hong Kong'], 'ambig_questions': [{'question': 'Do nz citizens need a visa for visiting hong kong for less than 90 days?', 'answer': ['Visa not required']}, {'question': 'Do nz citizens need a visa for hong kong if they hold an APEC Business Travel Card (ABTC)?', 'answer': ['do not require a visa']}]}, {'nq_id': '2523869490115302337', 'nq_question': 'How long is the staton island ferry ride?', 'nq_answer': ['25 minutes'], 'ambig_questions': [{'question': 'How long in distance is the staton island ferry ride?', 'answer': ['5.2 miles', '8.4 km', '5.2 mi (8.4 km)']}, {'question': 'How long with respect to time is the staton island ferry ride?', 'answer': ['25 minutes', 'approximately 25 minutes']}]}, {'nq_id': '4901042057530970181', 'nq_question': 'Who is the secretary of state for transport?', 'nq_answer': ['Chris Grayling'], 'ambig_questions': [{'question': 'Who is the UK secretary of state for transport whose tenure began in 2016?', 'answer': ['Chris Grayling']}, {'question': 'Who is the UK secretary of state for transport whose tenure began in 2012?', 'answer': ['Patrick McLoughlin']}, {'question': 'Who is the UK secretary of state for transport whose tenure began in 2011?', 'answer': ['Justine Greening']}]}, {'nq_id': '-8866718526237430044', 'nq_question': 'How many lanes does an olympic pool have?', 'nq_answer': ['10'], 'ambig_questions': [{'question': 'How many total lanes does an olympic pool have since 2008?', 'answer': ['10', 'ten']}, {'question': 'How many lanes does an olympic pool have for racing, disregarding the empty lanes since 2008?', 'answer': ['8', 'eight']}, {'question': 'How many lanes does an olympic pool have prior to 2008?', 'answer': ['8', 'eight', '8-lane']}]}, {'nq_id': '791658849820278329', 'nq_question': 'When did the song rockin robin come out?', 'nq_answer': ['1958'], 'ambig_questions': [{'question': 'When did the song rockin robin by Leon René come out?', 'answer': ['1958']}, {'question': 'When did the song rockin robin by Michael Jackson come out?', 'answer': ['1972']}]}, {'nq_id': '1180863749830234718', 'nq_question': 'Who sings the song raise a little hell?', 'nq_answer': ['Canadian rock band Trooper'], 'ambig_questions': [{'question': 'Who sings the song raise a little hell originally?', 'answer': ['Trooper']}, {'question': 'Who sings the song raise a little hell in FUBAR?', 'answer': ['GrimSkunk']}]}, {'nq_id': '3018940836728242465', 'nq_question': \"Most victories in ncaa division i men's college basketball?\", 'nq_answer': ['Kentucky'], 'ambig_questions': [{'question': \"School with most victories in ncaa division i men's college basketball?\", 'answer': ['Kentucky']}, {'question': \"Coach with most victories in ncaa division i men's college basketball?\", 'answer': ['Mike Krzyzewski']}]}, {'nq_id': '-2841277206184503954', 'nq_question': 'When does minecraft season 2 episode 2 release?', 'nq_answer': ['August 15 , 2017'], 'ambig_questions': [{'question': 'When did Minecraft season 2 episode 2 release for PC, Mac, PS4, Xbox 360, Xbox One, iOS, and Windows 10?', 'answer': ['August 15, 2017']}, {'question': 'When did Minecraft season 2 episode 2 release for Android and FireOS?', 'answer': ['August 17, 2017']}, {'question': 'When did Minecraft season 2 episode 2 release for Nintendo Switch?', 'answer': ['November 6, 2018']}]}, {'nq_id': '-1177619323020090813', 'nq_question': 'Who was the original writer of stand by me?', 'nq_answer': ['Jerry Leiber', 'Mike Stoller', 'Ben E. King'], 'ambig_questions': [{'question': 'Who was the original writer of the song \"Stand by Me\"?', 'answer': ['Ben E. King, Jerry Leiber and Mike Stoller']}, {'question': 'Who was the original writer of the novel upon which the 1986 film Stand by Me was based?', 'answer': ['Stephen King']}, {'question': 'Who was the original writer of the Grey\\'s Anatomy episode \"Stand by Me\"?', 'answer': ['Zoanne Clack']}, {'question': 'Who was the original writer of the 2010 novel \"Stand by Me\"?', 'answer': [\"Sheila O'Flanagan\"]}]}, {'nq_id': '-977566290948055508', 'nq_question': 'Who was president when the bombs were dropped on japan?', 'nq_answer': ['President Harry S. Truman'], 'ambig_questions': [{'question': 'Who was president of United States when the bombs were dropped on japan?', 'answer': ['Harry S. Truman']}, {'question': 'Who was emperor of Japan when the bombs were dropped on japan?', 'answer': ['Hirohito', 'Shōwa Emperor', 'Shōwa', 'Emperor Shōwa']}]}, {'nq_id': '-2093895256462600547', 'nq_question': 'When did the incredibles 2 movie come out?', 'nq_answer': ['on June 15 , 2018'], 'ambig_questions': [{'question': 'When did the Incredibles 2 movie come out as a world premiere?', 'answer': ['June 5, 2018']}, {'question': 'When did the Incredibles 2 movie come out in US and Canadian theatres?', 'answer': ['June 15, 2018']}]}]\n",
      "What is the release date for Hotel Transylvania Part 3?\n",
      "{'data_id': '-6879428134571341185', 'ambig_question': 'When does hotel transylvania part 3 come out?', 'ambig_prompt_response': 'July 13, 2018.', 'disambig_question': 'What is the release date for Hotel Transylvania Part 3?', 'disambig_prompt_response': 'July 13, 2018.', 'ground_truth': ['July 13 , 2018']}\n",
      "What timeframe marks the first introduction of daylight saving in Australia?\n",
      "{'data_id': '804600793856177571', 'ambig_question': 'When was daylight saving first introduced to australia?', 'ambig_prompt_response': '1916', 'disambig_question': 'What timeframe marks the first introduction of daylight saving in Australia?', 'disambig_prompt_response': '1916', 'ground_truth': ['World War I']}\n",
      "What is the number of post office branches in the UK?\n",
      "{'data_id': '-1678402464171096243', 'ambig_question': 'How many post office branches in the uk?', 'ambig_prompt_response': '11,500', 'disambig_question': 'What is the number of post office branches in the UK?', 'disambig_prompt_response': 'Approximately 11,500.', 'ground_truth': ['around 11,500']}\n",
      "What player won the 2017 ATP Mexico Open hard court tennis tournament?\n",
      "{'data_id': '1829447224335269967', 'ambig_question': 'Who won 2017 atp mexico open hard court tennis tournament?', 'ambig_prompt_response': 'Sam Querrey.', 'disambig_question': 'What player won the 2017 ATP Mexico Open hard court tennis tournament?', 'disambig_prompt_response': 'Sam Querrey', 'ground_truth': ['Sam Querrey', 'Anastasia Rodionova', 'Jamie Murray', 'Bruno Soares', 'Darija Jurak', 'Lesia Tsurenko']}\n",
      "What discipline of neuroscience focuses on nervous system disorders?\n",
      "{'data_id': '739474566037411469', 'ambig_question': 'Which discipline of neuroscience studies nervous system disorders?', 'ambig_prompt_response': 'Neurology', 'disambig_question': 'What discipline of neuroscience focuses on nervous system disorders?', 'disambig_prompt_response': 'Neurology', 'ground_truth': ['Clinical neuroscience']}\n",
      "What is the release date for episode 3 of Final Space?\n",
      "{'data_id': '-4142777293578935639', 'ambig_question': 'When does episode 3 of final space come out?', 'ambig_prompt_response': 'September 17, 2018.', 'disambig_question': 'What is the release date for episode 3 of Final Space?', 'disambig_prompt_response': 'February 26, 2018.', 'ground_truth': ['March 12 , 2018']}\n",
      "What is the origin of the three kings?\n",
      "{'data_id': '5694395508556331288', 'ambig_question': 'Where did the the three kings come from?', 'ambig_prompt_response': 'The East.', 'disambig_question': 'What is the origin of the three kings?', 'disambig_prompt_response': 'Christian tradition in the Gospel of Matthew.', 'ground_truth': ['from the east']}\n",
      "What character did Matthew Gray Gubler play in Batman: Assault on Arkham?\n",
      "{'data_id': '-3353695272638881438', 'ambig_question': 'Who did matthew gray gubler play in batman assault on arkham?', 'ambig_prompt_response': 'The Riddler', 'disambig_question': 'What character did Matthew Gray Gubler play in Batman: Assault on Arkham?', 'disambig_prompt_response': 'The Riddler', 'ground_truth': ['Riddler / Edward Nygma']}\n",
      "What actress plays Max Branning's wife in EastEnders?\n",
      "{'data_id': '-6525373399334681447', 'ambig_question': \"Who plays max branning's wife in eastenders?\", 'ambig_prompt_response': 'Tanya Franks', 'disambig_question': \"What actress plays Max Branning's wife in EastEnders?\", 'disambig_prompt_response': 'Jo Joyner', 'ground_truth': ['Jo Joyner']}\n",
      "What is the visa requirement for New Zealand citizens traveling to Hong Kong?\n",
      "{'data_id': '-3276837314554268589', 'ambig_question': 'Do nz citizens need a visa for hong kong?', 'ambig_prompt_response': 'No.', 'disambig_question': 'What is the visa requirement for New Zealand citizens traveling to Hong Kong?', 'disambig_prompt_response': 'Visa not required for up to 90 days.', 'ground_truth': ['Hong Kong']}\n",
      "What is the duration of the Staten Island Ferry ride?\n",
      "{'data_id': '2523869490115302337', 'ambig_question': 'How long is the staton island ferry ride?', 'ambig_prompt_response': '25 minutes.', 'disambig_question': 'What is the duration of the Staten Island Ferry ride?', 'disambig_prompt_response': 'Approximately 25 minutes.', 'ground_truth': ['25 minutes']}\n",
      "What individual holds the position of secretary of state for transport?\n",
      "{'data_id': '4901042057530970181', 'ambig_question': 'Who is the secretary of state for transport?', 'ambig_prompt_response': 'Mark Harper', 'disambig_question': 'What individual holds the position of secretary of state for transport?', 'disambig_prompt_response': 'Mark Harper', 'ground_truth': ['Chris Grayling']}\n",
      "What number of lanes does an Olympic pool have?\n",
      "{'data_id': '-8866718526237430044', 'ambig_question': 'How many lanes does an olympic pool have?', 'ambig_prompt_response': '8', 'disambig_question': 'What number of lanes does an Olympic pool have?', 'disambig_prompt_response': '10', 'ground_truth': ['10']}\n",
      "What is the release year of the song \"Rockin' Robin\"?\n",
      "{'data_id': '791658849820278329', 'ambig_question': 'When did the song rockin robin come out?', 'ambig_prompt_response': '1958', 'disambig_question': 'What is the release year of the song \"Rockin\\' Robin\"?', 'disambig_prompt_response': '1958', 'ground_truth': ['1958']}\n",
      "What band performs the song \"Raise a Little Hell\"?\n",
      "{'data_id': '1180863749830234718', 'ambig_question': 'Who sings the song raise a little hell?', 'ambig_prompt_response': 'Trooper', 'disambig_question': 'What band performs the song \"Raise a Little Hell\"?', 'disambig_prompt_response': 'Trooper', 'ground_truth': ['Canadian rock band Trooper']}\n",
      "What team holds the record for the most victories in NCAA Division I men's college basketball?\n",
      "{'data_id': '3018940836728242465', 'ambig_question': \"Most victories in ncaa division i men's college basketball?\", 'ambig_prompt_response': 'University of Kentucky', 'disambig_question': \"What team holds the record for the most victories in NCAA Division I men's college basketball?\", 'disambig_prompt_response': 'Kansas Jayhawks', 'ground_truth': ['Kentucky']}\n",
      "What is the release date for Minecraft Season 2 Episode 2?\n",
      "{'data_id': '-2841277206184503954', 'ambig_question': 'When does minecraft season 2 episode 2 release?', 'ambig_prompt_response': 'There is no official series titled \"Minecraft Season 2 Episode 2,\" as Minecraft is a video game, not a serialized show with seasons and episodes.', 'disambig_question': 'What is the release date for Minecraft Season 2 Episode 2?', 'disambig_prompt_response': 'There is no \"Minecraft Season 2 Episode 2\" as Minecraft is not a series but a video game.', 'ground_truth': ['August 15 , 2017']}\n",
      "What person's name is listed as the original writer of \"Stand by Me\"?\n",
      "{'data_id': '-1177619323020090813', 'ambig_question': 'Who was the original writer of stand by me?', 'ambig_prompt_response': 'Ben E. King.', 'disambig_question': 'What person\\'s name is listed as the original writer of \"Stand by Me\"?', 'disambig_prompt_response': 'Ben E. King', 'ground_truth': ['Jerry Leiber', 'Mike Stoller', 'Ben E. King']}\n",
      "What person was president when the bombs were dropped on Japan?\n",
      "{'data_id': '-977566290948055508', 'ambig_question': 'Who was president when the bombs were dropped on japan?', 'ambig_prompt_response': 'Harry S. Truman', 'disambig_question': 'What person was president when the bombs were dropped on Japan?', 'disambig_prompt_response': 'Harry S. Truman', 'ground_truth': ['President Harry S. Truman']}\n",
      "What release date did the movie \"Incredibles 2\" have?\n",
      "{'data_id': '-2093895256462600547', 'ambig_question': 'When did the incredibles 2 movie come out?', 'ambig_prompt_response': '2018', 'disambig_question': 'What release date did the movie \"Incredibles 2\" have?', 'disambig_prompt_response': 'June 15, 2018.', 'ground_truth': ['on June 15 , 2018']}\n"
     ]
    }
   ],
   "source": [
    "\n",
    "# go through sample.json and ask questions to gpt\n",
    "import json\n",
    "all_qs = json.load(open(\"filtered_train.json\"))\n",
    "\n",
    "# randomly sample 10 questions\n",
    "import random\n",
    "sample = random.sample(all_qs, 20)\n",
    "\n",
    "print(sample)\n",
    "\n",
    "output = []\n",
    "\n",
    "for i in sample:\n",
    "    # print(\"-\"*20)\n",
    "    ootb_llm_rseponse = client.chat.completions.create(\n",
    "        messages=[\n",
    "            {\n",
    "                \"role\": \"user\",\n",
    "                \"content\": f\"Answer the question as concisely as possible with ONLY one answer without any other text:  {i['nq_question']}\",\n",
    "            }\n",
    "        ],\n",
    "        model=\"gpt-4o\"\n",
    "    )\n",
    "    \n",
    "    chat_completion = client.chat.completions.create(\n",
    "        messages=[\n",
    "            {\n",
    "                \"role\": \"user\",\n",
    "                \"content\": f\"Rewrite this question replacing all questions with a what, but retain the meaning by specifying what entity or what person or what timeframe the \\\"what\\\" answering: {i['nq_question']}\",\n",
    "            }\n",
    "        ],\n",
    "        model=\"gpt-4o\"\n",
    "    )\n",
    "\n",
    "    print(chat_completion.choices[0].message.content)\n",
    "\n",
    "\n",
    "    final_answer = client.chat.completions.create(\n",
    "        messages=[\n",
    "            {\n",
    "                \"role\": \"user\",\n",
    "                \"content\": f\"Answer the question as concisely as possible with ONLY one answer without any other text:  {chat_completion.choices[0].message.content}\",\n",
    "            }\n",
    "        ],\n",
    "        model=\"gpt-4o\"\n",
    "    )\n",
    "\n",
    "    curr = {\n",
    "        \"data_id\": i[\"nq_id\"],\n",
    "        \"ambig_question\": i[\"nq_question\"],\n",
    "        \"ambig_prompt_response\": ootb_llm_rseponse.choices[0].message.content,\n",
    "        \"disambig_question\": chat_completion.choices[0].message.content,\n",
    "        \"disambig_prompt_response\": final_answer.choices[0].message.content,\n",
    "        \"ground_truth\": i[\"nq_answer\"],\n",
    "    }\n",
    "\n",
    "    output.append(curr)\n",
    "\n",
    "    # save output to json file\n",
    "    json.dump(output, open(\"disambig_prompt.json\", \"w\"))\n",
    "\n",
    "    print(curr)\n"
   ]
  }
 ],
 "metadata": {
  "kernelspec": {
   "display_name": "Python 3",
   "language": "python",
   "name": "python3"
  },
  "language_info": {
   "codemirror_mode": {
    "name": "ipython",
    "version": 3
   },
   "file_extension": ".py",
   "mimetype": "text/x-python",
   "name": "python",
   "nbconvert_exporter": "python",
   "pygments_lexer": "ipython3",
   "version": "3.12.3"
  }
 },
 "nbformat": 4,
 "nbformat_minor": 2
}
