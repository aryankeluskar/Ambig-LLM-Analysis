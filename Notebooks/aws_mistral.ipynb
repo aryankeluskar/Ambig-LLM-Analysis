{
 "cells": [
  {
   "cell_type": "code",
   "execution_count": 61,
   "metadata": {},
   "outputs": [],
   "source": [
    "import boto3\n",
    "from botocore.exceptions import ClientError\n",
    "import json\n",
    "\n",
    "client = boto3.client(\"bedrock-runtime\", region_name=\"us-east-1\")\n",
    "model_id = \"mistral.mixtral-8x7b-instruct-v0:1\"\n",
    "\n",
    "def call_mistral(user_message):\n",
    "    body = json.dumps({\n",
    "        \"prompt\": user_message,\n",
    "    })\n",
    "\n",
    "    try:\n",
    "        response = client.invoke_model(\n",
    "            modelId=model_id,\n",
    "            body=body,\n",
    "        )\n",
    "\n",
    "        response_body = json.loads(response.get('body').read())\n",
    "        return response_body['outputs'][0]['text'].strip()\n",
    "\n",
    "    except (ClientError, Exception) as e:\n",
    "        print(f\"ERROR: Can't invoke '{model_id}'. Reason: {e}\")\n",
    "        return \"\""
   ]
  },
  {
   "cell_type": "code",
   "execution_count": 64,
   "metadata": {},
   "outputs": [
    {
     "name": "stdout",
     "output_type": "stream",
     "text": [
      "Ewan McGregor\n"
     ]
    }
   ],
   "source": [
    "prompt = \"Answer the question as concisely as possible with ONLY the answer without any other text: \"\n",
    "\n",
    "question = \"Who played obi wan kenobi in star wars episode 3?\"\n",
    "\n",
    "out = call_mistral(prompt + question)\n",
    "\n",
    "# remove \"Anwer: \" from the output\n",
    "formatted = out.replace(\"Answer: \", \"\")\n",
    "\n",
    "print(formatted)"
   ]
  }
 ],
 "metadata": {
  "kernelspec": {
   "display_name": "Python 3",
   "language": "python",
   "name": "python3"
  },
  "language_info": {
   "codemirror_mode": {
    "name": "ipython",
    "version": 3
   },
   "file_extension": ".py",
   "mimetype": "text/x-python",
   "name": "python",
   "nbconvert_exporter": "python",
   "pygments_lexer": "ipython3",
   "version": "3.12.3"
  }
 },
 "nbformat": 4,
 "nbformat_minor": 2
}
